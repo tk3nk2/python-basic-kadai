{
  "nbformat": 4,
  "nbformat_minor": 0,
  "metadata": {
    "colab": {
      "provenance": []
    },
    "kernelspec": {
      "name": "python3",
      "display_name": "Python 3"
    },
    "language_info": {
      "name": "python"
    }
  },
  "cells": [
    {
      "cell_type": "code",
      "source": [
        "class Human:\n",
        "  # コンストラクタを定義\n",
        "  def __init__(self, name, age):\n",
        "    self.name = name\n",
        "    self.age = age\n",
        "\n",
        "  # メソッドを定義\n",
        "  def check_adult(self):\n",
        "    if self.age >= 20:\n",
        "      print(f'{self.name}は大人です。')\n",
        "    else:\n",
        "      print(f'{self.name}は大人ではありません。')\n",
        "\n",
        "# インスタンス化\n",
        "taro = Human('太郎', 25)\n",
        "jiro = Human('次郎', 20)\n",
        "saburo = Human('三郎', 15)\n",
        "\n",
        "# 生成したインスタンスをリストに追加\n",
        "human_list = [taro, jiro, saburo]\n",
        "\n",
        "# メソッドにアクセスして実行\n",
        "for human in human_list:\n",
        "  human.check_adult()"
      ],
      "metadata": {
        "colab": {
          "base_uri": "https://localhost:8080/"
        },
        "id": "aQ4u1qwghRHt",
        "outputId": "68971dfa-e4e7-4789-a06e-7cf96a143aee"
      },
      "execution_count": 24,
      "outputs": [
        {
          "output_type": "stream",
          "name": "stdout",
          "text": [
            "太郎は大人です。\n",
            "次郎は大人です。\n",
            "三郎は大人ではありません。\n"
          ]
        }
      ]
    },
    {
      "cell_type": "code",
      "source": [],
      "metadata": {
        "id": "F3RU_lDvl_Tj"
      },
      "execution_count": null,
      "outputs": []
    }
  ]
}