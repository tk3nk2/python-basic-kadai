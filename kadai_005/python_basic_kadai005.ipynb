{
  "nbformat": 4,
  "nbformat_minor": 0,
  "metadata": {
    "colab": {
      "provenance": []
    },
    "kernelspec": {
      "name": "python3",
      "display_name": "Python 3"
    },
    "language_info": {
      "name": "python"
    }
  },
  "cells": [
    {
      "cell_type": "code",
      "execution_count": 2,
      "metadata": {
        "id": "S1j_OC2H_PSB"
      },
      "outputs": [],
      "source": [
        "# 変数定義\n",
        "top_base = 10\n",
        "bottom_base = 20\n",
        "height = 5"
      ]
    },
    {
      "cell_type": "code",
      "source": [
        "# 台形の面積算出\n",
        "area = (top_base+bottom_base) * 5 / 2"
      ],
      "metadata": {
        "id": "JfGJdpci_Y_A"
      },
      "execution_count": 3,
      "outputs": []
    },
    {
      "cell_type": "code",
      "source": [
        "# 計算結果表示\n",
        "print(f'面積: {area}cm²')"
      ],
      "metadata": {
        "colab": {
          "base_uri": "https://localhost:8080/"
        },
        "id": "xSwuTChKHk7H",
        "outputId": "9fd88c52-ba37-4ac2-d15b-8db0a1aaa544"
      },
      "execution_count": 5,
      "outputs": [
        {
          "output_type": "stream",
          "name": "stdout",
          "text": [
            "面積: 75.0cm²\n"
          ]
        }
      ]
    },
    {
      "cell_type": "code",
      "source": [],
      "metadata": {
        "id": "M5xlstMTHt6L"
      },
      "execution_count": null,
      "outputs": []
    }
  ]
}