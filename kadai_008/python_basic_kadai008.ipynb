{
  "nbformat": 4,
  "nbformat_minor": 0,
  "metadata": {
    "colab": {
      "provenance": []
    },
    "kernelspec": {
      "name": "python3",
      "display_name": "Python 3"
    },
    "language_info": {
      "name": "python"
    }
  },
  "cells": [
    {
      "cell_type": "code",
      "source": [
        "# varに値を入力\n",
        "var = 30"
      ],
      "metadata": {
        "id": "-CsTl5RiFmjq"
      },
      "execution_count": 21,
      "outputs": []
    },
    {
      "cell_type": "code",
      "source": [
        "# 条件分岐\n",
        "if var % 3 == 0 and var % 5 == 0:\n",
        "  print('FizzBuzz')\n",
        "elif var % 3 == 0:\n",
        "  print('Fizz')\n",
        "elif var % 5 == 0:\n",
        "  print('Buzz')\n",
        "else:\n",
        "  print(var)"
      ],
      "metadata": {
        "colab": {
          "base_uri": "https://localhost:8080/"
        },
        "id": "6ISffjz1UoVq",
        "outputId": "2341511c-61c1-4424-fb34-5acf07766ecf"
      },
      "execution_count": 22,
      "outputs": [
        {
          "output_type": "stream",
          "name": "stdout",
          "text": [
            "FizzBuzz\n"
          ]
        }
      ]
    },
    {
      "cell_type": "code",
      "source": [],
      "metadata": {
        "id": "UCEPFWJFFuY5"
      },
      "execution_count": null,
      "outputs": []
    }
  ]
}