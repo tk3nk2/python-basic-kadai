{
  "nbformat": 4,
  "nbformat_minor": 0,
  "metadata": {
    "colab": {
      "provenance": []
    },
    "kernelspec": {
      "name": "python3",
      "display_name": "Python 3"
    },
    "language_info": {
      "name": "python"
    }
  },
  "cells": [
    {
      "cell_type": "code",
      "source": [
        "# 朝のあいさつを出力する関数を作成する\n",
        "def say_good_morning():\n",
        "  print('おはようございます！')\n",
        "  print('昨日はよく眠れましたか？')\n",
        "  print('今日も1日頑張りましょう！')\n",
        "\n",
        "# 夜のあいさつを出力する関数を作成する\n",
        "def say_good_evening():\n",
        "  print('こんばんは！')\n",
        "  print('今日も1日お疲れ様でした。')\n",
        "\n",
        "# 朝のあいさつを出力する関数を呼び出す\n",
        "say_good_morning()\n",
        "\n",
        "# 夜のあいさつを出力する関数を呼び出す\n",
        "say_good_evening()"
      ],
      "metadata": {
        "colab": {
          "base_uri": "https://localhost:8080/"
        },
        "id": "15Jkpy7bOhy-",
        "outputId": "ac212766-66b9-4aaa-da74-b6844acfa885"
      },
      "execution_count": 56,
      "outputs": [
        {
          "output_type": "stream",
          "name": "stdout",
          "text": [
            "おはようございます！\n",
            "昨日はよく眠れましたか？\n",
            "今日も1日頑張りましょう！\n",
            "こんばんは！\n",
            "今日も1日お疲れ様でした。\n"
          ]
        }
      ]
    },
    {
      "cell_type": "code",
      "source": [
        "def calculate_tax_included(price, tax):\n",
        "  tax_included = price * (1 + tax/100)\n",
        "  return tax_included\n",
        "\n",
        "tax_included = calculate_tax_included(110, 10)\n",
        "print(tax_included)"
      ],
      "metadata": {
        "colab": {
          "base_uri": "https://localhost:8080/"
        },
        "id": "VU0DAZuxRVdi",
        "outputId": "aac9d491-688d-4774-c6ce-09278f1f38d8"
      },
      "execution_count": 57,
      "outputs": [
        {
          "output_type": "stream",
          "name": "stdout",
          "text": [
            "121.00000000000001\n"
          ]
        }
      ]
    },
    {
      "cell_type": "code",
      "source": [],
      "metadata": {
        "id": "0qJTNoQYSzz8"
      },
      "execution_count": null,
      "outputs": []
    }
  ]
}