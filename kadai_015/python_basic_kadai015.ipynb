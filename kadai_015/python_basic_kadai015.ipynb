{
  "nbformat": 4,
  "nbformat_minor": 0,
  "metadata": {
    "colab": {
      "provenance": []
    },
    "kernelspec": {
      "name": "python3",
      "display_name": "Python 3"
    },
    "language_info": {
      "name": "python"
    }
  },
  "cells": [
    {
      "cell_type": "code",
      "source": [
        "class Human:\n",
        "  # コンストラクタを定義する\n",
        "  def __init__(self, name, age):\n",
        "    self.name = name\n",
        "    self.age = age\n",
        "\n",
        "  # メソッドを定義する\n",
        "  def printinfo(self, name, age):\n",
        "    print(self.name)\n",
        "    print(self.age)\n",
        "\n",
        "  # インスタント化する\n",
        "  human = Human('侍太郎', 30)\n",
        "\n",
        "  # メソッドにアクセスし、値を出力する\n",
        "  print(human.name)\n",
        "  print(human.age)"
      ],
      "metadata": {
        "colab": {
          "base_uri": "https://localhost:8080/"
        },
        "id": "67g-0gwKZbQ_",
        "outputId": "eca75c43-76ff-4b59-c617-14f02cb5a847"
      },
      "execution_count": 72,
      "outputs": [
        {
          "output_type": "stream",
          "name": "stdout",
          "text": [
            "侍太郎\n",
            "30\n"
          ]
        }
      ]
    }
  ]
}