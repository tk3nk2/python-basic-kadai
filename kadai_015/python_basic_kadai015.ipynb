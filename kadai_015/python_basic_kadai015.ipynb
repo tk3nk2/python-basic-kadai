{
  "nbformat": 4,
  "nbformat_minor": 0,
  "metadata": {
    "colab": {
      "provenance": []
    },
    "kernelspec": {
      "name": "python3",
      "display_name": "Python 3"
    },
    "language_info": {
      "name": "python"
    }
  },
  "cells": [
    {
      "cell_type": "code",
      "source": [
        "class Human:\n",
        "  # コンストラクタを定義する\n",
        "  def __init__(self, name, age):\n",
        "    self.name = name\n",
        "    self.age = age\n",
        "\n",
        "# インスタント化する\n",
        "printinfo = Human('侍太郎', 30)\n",
        "\n",
        "# 属性にアクセスし、値を出力する\n",
        "print(printinfo.name)\n",
        "print(printinfo.age)"
      ],
      "metadata": {
        "colab": {
          "base_uri": "https://localhost:8080/"
        },
        "id": "67g-0gwKZbQ_",
        "outputId": "0f42b267-08d5-4fa4-c018-715ce4692ebc"
      },
      "execution_count": 68,
      "outputs": [
        {
          "output_type": "stream",
          "name": "stdout",
          "text": [
            "侍太郎\n",
            "30\n"
          ]
        }
      ]
    },
    {
      "cell_type": "code",
      "source": [],
      "metadata": {
        "id": "TMZ8I7UjaofT"
      },
      "execution_count": null,
      "outputs": []
    }
  ]
}